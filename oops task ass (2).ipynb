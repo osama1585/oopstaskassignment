{
 "cells": [
  {
   "cell_type": "markdown",
   "id": "d71a1490-7661-4b59-b860-b04d157f0733",
   "metadata": {},
   "source": [
    "Assignment oops task "
   ]
  },
  {
   "cell_type": "markdown",
   "id": "0e247b79-9595-4528-8e5b-60d0c95451e5",
   "metadata": {},
   "source": [
    "Q1. Create a vehicle class with an init method having instance variables as name_of_vehicle, max_speed\n",
    "and average_of_vehicle."
   ]
  },
  {
   "cell_type": "markdown",
   "id": "67aff518-79af-4297-965d-40b1fc9c7517",
   "metadata": {},
   "source": [
    "Ans-"
   ]
  },
  {
   "cell_type": "code",
   "execution_count": 1,
   "id": "c4c1686f-7518-4e47-9d54-027329da4ea9",
   "metadata": {},
   "outputs": [],
   "source": [
    "class vehicle:\n",
    "    def __init__ (self , name_of_vehicle , max_speed , average_speed):\n",
    "        self.name_of_vehicle = name_of_vehicle\n",
    "        self.max_speed = max_speed\n",
    "        self.average_speed = average_speed\n",
    "    \n",
    "    "
   ]
  },
  {
   "cell_type": "code",
   "execution_count": 4,
   "id": "2f81977c-a891-4773-9e61-2d0d04f6e93b",
   "metadata": {},
   "outputs": [],
   "source": [
    "vehicle1= vehicle(\"maruti\",\"80kmps\", \"60kmps\")"
   ]
  },
  {
   "cell_type": "code",
   "execution_count": 6,
   "id": "9afea69d-7ffe-48c3-b2dd-a906560e592f",
   "metadata": {},
   "outputs": [
    {
     "data": {
      "text/plain": [
       "'60kmps'"
      ]
     },
     "execution_count": 6,
     "metadata": {},
     "output_type": "execute_result"
    }
   ],
   "source": [
    "vehicle1.average_speed"
   ]
  },
  {
   "cell_type": "code",
   "execution_count": 7,
   "id": "adb64afd-8e4e-4ae8-977a-dc674530eb92",
   "metadata": {},
   "outputs": [
    {
     "data": {
      "text/plain": [
       "'80kmps'"
      ]
     },
     "execution_count": 7,
     "metadata": {},
     "output_type": "execute_result"
    }
   ],
   "source": [
    "vehicle1.max_speed"
   ]
  },
  {
   "cell_type": "code",
   "execution_count": 8,
   "id": "e1cb699e-3f6b-45b3-a60f-064881298534",
   "metadata": {},
   "outputs": [
    {
     "data": {
      "text/plain": [
       "'maruti'"
      ]
     },
     "execution_count": 8,
     "metadata": {},
     "output_type": "execute_result"
    }
   ],
   "source": [
    "vehicle1.name_of_vehicle"
   ]
  },
  {
   "cell_type": "markdown",
   "id": "43d1f3cd-d591-45d6-8f62-dfb6a94b2bb7",
   "metadata": {},
   "source": [
    "Q2. Create a child class car from the vehicle class created in Que 1, which will inherit the vehicle class.\n",
    "Create a method named seating_capacity which takes capacity as an argument and returns the name of\n",
    "the vehicle and its seating capacity."
   ]
  },
  {
   "cell_type": "markdown",
   "id": "cb332128-c51d-43b2-ae15-fa7fcd65bcb6",
   "metadata": {},
   "source": [
    "Ans-"
   ]
  },
  {
   "cell_type": "code",
   "execution_count": 36,
   "id": "249b4f9e-5fe4-40ea-881c-296d3c34f474",
   "metadata": {},
   "outputs": [],
   "source": [
    "class vehicle:\n",
    "    def __init__ (self , name_of_vehicle , max_speed , average_speed):\n",
    "        self.name_of_vehicle = name_of_vehicle\n",
    "        self.max_speed = max_speed\n",
    "        self.average_speed = average_speed\n",
    "class car(vehicle):\n",
    "    def __init__(self , name_of_vehicle , max_speed , average_speed):\n",
    "        super(). __init__(name_of_vehicle , max_speed , average_speed)\n",
    "        \n",
    "    def seating_capacity(self , capacity):\n",
    "        return f\"{self.name_of_vehicle} and seating capacity {capacity}\""
   ]
  },
  {
   "cell_type": "code",
   "execution_count": 37,
   "id": "971c8a94-91b8-4027-b874-0c1e32c783d3",
   "metadata": {},
   "outputs": [],
   "source": [
    "bike1 = car(\"Ninja 300\" , 200 , 100)\n",
    "car1 =car(\"Mustang\" , 250 , 100) "
   ]
  },
  {
   "cell_type": "code",
   "execution_count": 38,
   "id": "3d3e5e31-24d3-4bc3-a038-e96e6c4a21a8",
   "metadata": {},
   "outputs": [
    {
     "data": {
      "text/plain": [
       "'Ninja 300'"
      ]
     },
     "execution_count": 38,
     "metadata": {},
     "output_type": "execute_result"
    }
   ],
   "source": [
    "bike.name_of_vehicle"
   ]
  },
  {
   "cell_type": "code",
   "execution_count": 39,
   "id": "7cd16eb2-2d18-4dfb-8e67-2301b6af362a",
   "metadata": {},
   "outputs": [
    {
     "name": "stdout",
     "output_type": "stream",
     "text": [
      "Mustang and seating capacity 4\n"
     ]
    }
   ],
   "source": [
    "print(car.seating_capacity(4))"
   ]
  },
  {
   "cell_type": "code",
   "execution_count": 40,
   "id": "1e7ab519-fa9e-4309-8bcd-7afefa5c6057",
   "metadata": {},
   "outputs": [
    {
     "name": "stdout",
     "output_type": "stream",
     "text": [
      "Ninja 300 and seating capacity 1\n"
     ]
    }
   ],
   "source": [
    "print(bike.seating_capacity(1))"
   ]
  },
  {
   "cell_type": "markdown",
   "id": "332e0b09-7031-4c5a-96b3-8887a5976d48",
   "metadata": {},
   "source": [
    "Q3. What is multiple inheritance? Write a python code to demonstrate multiple inheritance."
   ]
  },
  {
   "cell_type": "markdown",
   "id": "6d50fa52-23e3-439b-8690-b5aa39ca0eb8",
   "metadata": {},
   "source": [
    "Ans-"
   ]
  },
  {
   "cell_type": "code",
   "execution_count": 15,
   "id": "1e803997-f4c5-4f71-9577-6ce6d06e2709",
   "metadata": {},
   "outputs": [],
   "source": [
    "class parent1:\n",
    "    def parent1_method(self):\n",
    "        print(\"this is parent1 method from class parent1\")\n",
    "class parent2:\n",
    "    def parent2_method(self):\n",
    "        print(\"this is parent2 method from class parent2\")\n",
    "class child(parent1,parent2):\n",
    "    def method_of_child(self):\n",
    "        print(\"this is a method in class child\")\n",
    "        "
   ]
  },
  {
   "cell_type": "code",
   "execution_count": 16,
   "id": "2227c1b7-4168-4a83-b6f1-ecd27577dee9",
   "metadata": {},
   "outputs": [],
   "source": [
    "my_inher_obj = child()"
   ]
  },
  {
   "cell_type": "code",
   "execution_count": 17,
   "id": "7bd823ca-bd00-49a9-bae1-e4b6744154a4",
   "metadata": {},
   "outputs": [
    {
     "name": "stdout",
     "output_type": "stream",
     "text": [
      "this is a method in class child\n"
     ]
    }
   ],
   "source": [
    "my_inher_obj.method_of_child()"
   ]
  },
  {
   "cell_type": "code",
   "execution_count": 18,
   "id": "28b5b6d8-0eeb-4f9f-a100-08b0f8a69113",
   "metadata": {},
   "outputs": [
    {
     "name": "stdout",
     "output_type": "stream",
     "text": [
      "this is parent1 method from class parent1\n"
     ]
    }
   ],
   "source": [
    "my_inher_obj.parent1_method()"
   ]
  },
  {
   "cell_type": "code",
   "execution_count": 19,
   "id": "ed393475-25c2-44af-8e54-1f7d509d1c8e",
   "metadata": {},
   "outputs": [
    {
     "name": "stdout",
     "output_type": "stream",
     "text": [
      "this is parent2 method from class parent2\n"
     ]
    }
   ],
   "source": [
    "my_inher_obj.parent2_method()"
   ]
  },
  {
   "cell_type": "markdown",
   "id": "b19de4dc-18cc-432e-a876-e2bbf6e4f19c",
   "metadata": {},
   "source": [
    "Q4. What are getter and setter in python? Create a class and create a getter and a setter method in this\n",
    "class."
   ]
  },
  {
   "cell_type": "markdown",
   "id": "58a595e4-f8df-4d03-bba9-7f6f5e7ba51d",
   "metadata": {},
   "source": [
    "Ans-"
   ]
  },
  {
   "cell_type": "code",
   "execution_count": null,
   "id": "96732e2f-4d43-4a3a-9122-27aa3b9c4337",
   "metadata": {},
   "outputs": [],
   "source": [
    "class Person:\n",
    "    def __init__(self, name, age):\n",
    "        self._name = name\n",
    "        self._age = age\n",
    "\n",
    "  \n",
    "    @property\n",
    "    def age(self):\n",
    "        return self._age\n",
    "\n",
    "    @age.setter\n",
    "    def age(self, new_age):\n",
    "        if new_age > 0:\n",
    "            self._age = new_age\n",
    "        else:\n",
    "            print(\"Age must be a positive integer.\")\n",
    "\n",
    "\n"
   ]
  },
  {
   "cell_type": "code",
   "execution_count": 55,
   "id": "13562b01-7b15-42d0-90cb-808e5bd99c9d",
   "metadata": {},
   "outputs": [],
   "source": [
    "My_person = Person(\"yasir\" ,  22)"
   ]
  },
  {
   "cell_type": "code",
   "execution_count": 56,
   "id": "d0ddd001-81fb-4f5f-b7d9-f6bec4007e38",
   "metadata": {},
   "outputs": [
    {
     "data": {
      "text/plain": [
       "22"
      ]
     },
     "execution_count": 56,
     "metadata": {},
     "output_type": "execute_result"
    }
   ],
   "source": [
    "My_person.age"
   ]
  },
  {
   "cell_type": "code",
   "execution_count": 57,
   "id": "0a69a35b-b4a4-4bdf-95f0-de9a1aff31f6",
   "metadata": {},
   "outputs": [],
   "source": [
    "my_person.age = -5"
   ]
  },
  {
   "cell_type": "code",
   "execution_count": null,
   "id": "a0fcf853-949e-4b0f-a385-2add29c98a5b",
   "metadata": {},
   "outputs": [],
   "source": []
  },
  {
   "cell_type": "code",
   "execution_count": 59,
   "id": "f73e2170-b242-411b-a279-803ba6ea9c80",
   "metadata": {},
   "outputs": [
    {
     "name": "stdout",
     "output_type": "stream",
     "text": [
      "Age must be a positive integer\n"
     ]
    }
   ],
   "source": [
    "My_person.age=-5"
   ]
  },
  {
   "cell_type": "markdown",
   "id": "e9570830-522b-493b-95ff-32e9cc3f4132",
   "metadata": {},
   "source": [
    "Q5.What is method overriding in python? Write a python code to demonstrate method overriding."
   ]
  },
  {
   "cell_type": "markdown",
   "id": "e77ee927-ca83-4adf-b690-6f8e4dc00243",
   "metadata": {},
   "source": [
    "Ans-"
   ]
  },
  {
   "cell_type": "code",
   "execution_count": 17,
   "id": "351a0fff-db63-4d4d-a96f-087d91c5effd",
   "metadata": {},
   "outputs": [],
   "source": [
    "class vehicles:\n",
    "    def makes_sound(self):\n",
    "        return \"so loud \"\n",
    "class Mustang(vehicles):\n",
    "    def makes_sound(self):\n",
    "        return \"whengggggg whengggg\"\n",
    "class ktm(vehicles):\n",
    "    pass\n",
    "    \n",
    "        "
   ]
  },
  {
   "cell_type": "code",
   "execution_count": 18,
   "id": "e438d273-a772-41e2-a840-5969bc5c3cd0",
   "metadata": {},
   "outputs": [],
   "source": [
    "Vehicles=vehicles()"
   ]
  },
  {
   "cell_type": "code",
   "execution_count": 19,
   "id": "889bee24-817f-411e-8912-49dedac1dd45",
   "metadata": {},
   "outputs": [],
   "source": [
    "car=Mustang()"
   ]
  },
  {
   "cell_type": "code",
   "execution_count": 20,
   "id": "db6a011d-ba4c-4fb8-abb3-0d249f86c722",
   "metadata": {},
   "outputs": [],
   "source": [
    "bike=ktm()"
   ]
  },
  {
   "cell_type": "code",
   "execution_count": 21,
   "id": "3fc42fb3-e966-4ad1-bb2a-d72b7f1f8c34",
   "metadata": {},
   "outputs": [
    {
     "name": "stdout",
     "output_type": "stream",
     "text": [
      "vehicle sound so loud \n"
     ]
    }
   ],
   "source": [
    "print(\"vehicle sound\", Vehicles.makes_sound())"
   ]
  },
  {
   "cell_type": "code",
   "execution_count": 22,
   "id": "2061c838-d8cd-4154-9d60-c3c5f69e1173",
   "metadata": {},
   "outputs": [
    {
     "name": "stdout",
     "output_type": "stream",
     "text": [
      "mustan sound whengggggg whengggg\n"
     ]
    }
   ],
   "source": [
    "print(\"mustan sound\",car.makes_sound())"
   ]
  },
  {
   "cell_type": "code",
   "execution_count": 23,
   "id": "8b81bf45-83cc-4267-a106-6465e135b062",
   "metadata": {},
   "outputs": [
    {
     "name": "stdout",
     "output_type": "stream",
     "text": [
      "ktm sound so loud \n"
     ]
    }
   ],
   "source": [
    "print(\"ktm sound\", bike.makes_sound())"
   ]
  },
  {
   "cell_type": "code",
   "execution_count": null,
   "id": "381e093f-c36a-4956-a7ad-37ff577b3e90",
   "metadata": {},
   "outputs": [],
   "source": []
  },
  {
   "cell_type": "code",
   "execution_count": null,
   "id": "a3724624-ea65-4bb6-bf3a-e2cbb67dc689",
   "metadata": {},
   "outputs": [],
   "source": []
  }
 ],
 "metadata": {
  "kernelspec": {
   "display_name": "Python 3 (ipykernel)",
   "language": "python",
   "name": "python3"
  },
  "language_info": {
   "codemirror_mode": {
    "name": "ipython",
    "version": 3
   },
   "file_extension": ".py",
   "mimetype": "text/x-python",
   "name": "python",
   "nbconvert_exporter": "python",
   "pygments_lexer": "ipython3",
   "version": "3.10.8"
  }
 },
 "nbformat": 4,
 "nbformat_minor": 5
}
